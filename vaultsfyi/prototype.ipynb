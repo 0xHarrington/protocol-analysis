{
 "cells": [
  {
   "cell_type": "markdown",
   "metadata": {},
   "source": [
    "## Cost of Capital\n",
    "##### A notebook by __Matt Harrington (@conda_env)__ for identifying optimal yield farm allocations."
   ]
  },
  {
   "cell_type": "markdown",
   "metadata": {},
   "source": [
    "#### Define portfolio constraints"
   ]
  },
  {
   "cell_type": "code",
   "execution_count": 1,
   "metadata": {},
   "outputs": [],
   "source": [
    "# Constants\n",
    "TAO = 5_000_000  # Total capital to be allocated\n",
    "NETWORKS = ['mainnet', 'polygon']  # Networks to consider\n",
    "TOKENS = ['WETH', 'USDC']  # Tokens to consider\n",
    "SLIPPAGE = 0.001  # Slippage rate\n",
    "MAX_VAULTS = 10  # Maximum number of vaults to allocate to\n",
    "MAX_TVL_SHARE = 0.09  # Maximum share of TVL for allocation\n",
    "# MIN_VAULT_TVL = TAO / MAX_VAULTS  # Minimum TVL for allocation\n",
    "MIN_VAULT_TVL = 500_000 / MAX_TVL_SHARE  # Minimum TVL for allocation\n",
    "MIN_APY = 15  # Minimum APY for allocation\n",
    "HOLDING_DAYS = 30 # Number of days to hold the capital\n",
    "\n",
    "# # Static API endpoint\n",
    "# API_ENDPOINT = \"https://api.vaults.fyi/v1/vaults?token=USDC&network=mainnet&tvl_min=1000000\""
   ]
  },
  {
   "cell_type": "markdown",
   "metadata": {},
   "source": [
    "##### Fetch the data from the API and print vault data"
   ]
  },
  {
   "cell_type": "code",
   "execution_count": 2,
   "metadata": {},
   "outputs": [],
   "source": [
    "import os\n",
    "import json\n",
    "import requests\n",
    "from dotenv import load_dotenv\n",
    "from typing import Union, List\n",
    "\n",
    "load_dotenv()\n",
    "LIST_VAULTS_URL = 'https://api.vaults.fyi/v1/vaults'\n",
    "API_KEY = os.getenv('VAULTS_API_KEY')\n",
    "API_KEY_HEADERS = {'X-API-Key': API_KEY}\n",
    "YIELD_LOOKBACK = '7day' # Lookback period for yield rate. Options: 1day, 7day, 30day\n",
    "\n",
    "def get_vault_data(\n",
    "    tokens: Union[str, List[str]] = 'USDC',\n",
    "    network: Union[str, List[str]] = 'mainnet',\n",
    "    tvl_min: int = 1_000_000,\n",
    "    apy_min: float = 0.0\n",
    ") -> List[dict]:\n",
    "    vaults_meta = []\n",
    "    tokens_to_pull = [tokens] if isinstance(tokens, str) else tokens\n",
    "    networks_to_pull = [network] if isinstance(network, str) else network\n",
    "    for t in tokens_to_pull:\n",
    "        for n in networks_to_pull:\n",
    "            params = { \n",
    "                'token' : t,\n",
    "                'network' : n,\n",
    "                'tvl_min' : tvl_min\n",
    "            }\n",
    "            response = requests.get(\n",
    "                LIST_VAULTS_URL,\n",
    "                headers=API_KEY_HEADERS,\n",
    "                params=params\n",
    "            )\n",
    "            if response.status_code == 200:\n",
    "                vaults_meta.extend(response.json())\n",
    "            else:\n",
    "                print(f\"Failed to fetch {t}@{n} data: {response.status_code}\")\n",
    "    ret = []\n",
    "    for addr, network in [(v['address'], v['network']) for v in vaults_meta]:\n",
    "        try:\n",
    "            response = requests.get(\n",
    "                f'https://api.vaults.fyi/v1/vaults/{network}/{addr}',\n",
    "                headers=API_KEY_HEADERS\n",
    "            )\n",
    "            if response.status_code == 200:\n",
    "                resp = response.json()\n",
    "                if resp['apy'][YIELD_LOOKBACK] / 100 < apy_min:\n",
    "                    continue\n",
    "                ret.append(resp)\n",
    "            else:\n",
    "                print(f\"Failed to fetch {addr}@{network} data: {response.status_code}\")\n",
    "        except Exception as e:\n",
    "            print(f\"Failed to fetch {addr}@{network} data: {e}\")\n",
    "    for vault in ret:\n",
    "        vault['tvlInUsd'] = int(vault['tvl']) / (10 ** vault['token']['decimals'])\n",
    "    return ret"
   ]
  },
  {
   "cell_type": "markdown",
   "metadata": {},
   "source": [
    "## Optimize the allocation of capital across the vaults"
   ]
  },
  {
   "cell_type": "code",
   "execution_count": 3,
   "metadata": {},
   "outputs": [
    {
     "name": "stdout",
     "output_type": "stream",
     "text": [
      "Failed to fetch 0x39AA39c021dfbaE8faC545936693aC917d5E7563@mainnet data: 429\n",
      "Failed to fetch 0x530824DA86689C9C17CdC2871Ff29B058345b44a@mainnet data: 429\n",
      "Failed to fetch 0x98C23E9d8f34FEFb1B7BD6a91B7FF122F4e16F5c@mainnet data: 429\n",
      "Failed to fetch 0xA1F3aca66403D29b909605040C30ae1F1245d14c@mainnet data: 429\n",
      "Failed to fetch 0xBEEF01735c132Ada46AA9aA4c54623cAA92A64CB@mainnet data: 429\n",
      "Failed to fetch 0xCA30c93B02514f86d5C86a6e375E3A330B435Fb5@mainnet data: 429\n",
      "Failed to fetch 0xa354F35829Ae975e850e23e9615b11Da1B3dC4DE@mainnet data: 429\n",
      "Failed to fetch 0xc3d688B66703497DAA19211EEdff47f25384cdc3@mainnet data: 429\n",
      "Failed to fetch 0xdd50C053C096CB04A3e3362E2b622529EC5f2e8a@mainnet data: 429\n",
      "Failed to fetch 0xfe119e9C24ab79F1bDd5dd884B86Ceea2eE75D92@mainnet data: 429\n",
      "Failed to fetch 0x1205f31718499dBf1fCa446663B532Ef87481fe1@polygon data: 429\n",
      "Failed to fetch 0x1a13F4Ca1d028320A707D99520AbFefca3998b7F@polygon data: 429\n",
      "Failed to fetch 0x625E7708f30cA75bfd92586e17077590C60eb4cD@polygon data: 429\n",
      "Failed to fetch 0xF25212E676D1F7F89Cd72fFEe66158f541246445@polygon data: 429\n"
     ]
    }
   ],
   "source": [
    "# Fetch data from the API\n",
    "vault_data = get_vault_data(tokens=TOKENS, network=NETWORKS, tvl_min=MIN_VAULT_TVL, apy_min=MIN_APY)\n",
    "\n",
    "# Number of vaults\n",
    "num_vaults = len(vault_data)"
   ]
  },
  {
   "cell_type": "code",
   "execution_count": 4,
   "metadata": {},
   "outputs": [
    {
     "name": "stdout",
     "output_type": "stream",
     "text": [
      "[]\n",
      "1 vaults returned\n"
     ]
    }
   ],
   "source": [
    "# Confirm I'm grabbing what I want to\n",
    "from pprint import pprint\n",
    "pprint(vault_data[:vault_data.__len__()//2])\n",
    "print(f\"{len(vault_data)} vaults returned\")"
   ]
  },
  {
   "cell_type": "markdown",
   "metadata": {},
   "source": [
    "### Use cvxpy.py to perform the convex optimization along the yield curves."
   ]
  },
  {
   "cell_type": "code",
   "execution_count": 5,
   "metadata": {},
   "outputs": [
    {
     "name": "stdout",
     "output_type": "stream",
     "text": [
      "Optimal allocations:\n",
      "{'Aave v2 USDC': '$2500.00k'}\n"
     ]
    }
   ],
   "source": [
    "import cvxpy as cp\n",
    "import numpy as np\n",
    "\n",
    "# Total Value Locked for each vault\n",
    "tvls = np.array([vault['tvlInUsd'] for vault in vault_data])\n",
    "\n",
    "# Optimization variables\n",
    "allocations = cp.Variable(num_vaults)\n",
    "selection = cp.Variable(num_vaults, boolean=True)\n",
    "\n",
    "# Yield function for each vault (placeholder)\n",
    "yields = cp.multiply(allocations, np.array([vault['apy'][YIELD_LOOKBACK] for vault in vault_data]))\n",
    "\n",
    "# Slippage adjusted yields\n",
    "adjusted_yields = yields * (1 - SLIPPAGE)\n",
    "\n",
    "# Objective: Maximize the total adjusted yield\n",
    "objective = cp.Maximize(cp.sum(adjusted_yields))\n",
    "\n",
    "# Constraints\n",
    "constraints = [\n",
    "    cp.sum(allocations) <= TAO,  # Total allocation must be TAO\n",
    "    allocations <= selection * (0.5 * TAO),  # No more than half of TAO to any individual pool\n",
    "    allocations >= 0,  # Allocations must be non-negative\n",
    "    cp.sum(selection) <= MAX_VAULTS,  # No more than MAX_VAULTS vaults\n",
    "    allocations <= tvls * MAX_TVL_SHARE,  # Allocation must be less than 10% of the TVL\n",
    "]\n",
    "\n",
    "# Problem\n",
    "problem = cp.Problem(objective, constraints)\n",
    "\n",
    "# Solve the problem using a solver that supports integer/binary programming\n",
    "problem.solve()\n",
    "\n",
    "# Check the status of the solution\n",
    "if problem.status not in [cp.OPTIMAL, cp.OPTIMAL_INACCURATE]:\n",
    "    print(\"Problem status:\", problem.status)\n",
    "else:\n",
    "    # Optimal allocations\n",
    "    optimal_allocations = allocations.value\n",
    "\n",
    "allocated_vaults = np.where(optimal_allocations > 0)[0]\n",
    "\n",
    "# Display the results\n",
    "print(\"Optimal allocations:\")\n",
    "pprint({f\"{vault_data[i]['name']}\": \n",
    "    f\"${optimal_allocations[i]/1_000:.2f}k\" for i in allocated_vaults})"
   ]
  },
  {
   "cell_type": "markdown",
   "metadata": {},
   "source": [
    "### Compose data & metadata into a single data table"
   ]
  },
  {
   "cell_type": "code",
   "execution_count": 6,
   "metadata": {},
   "outputs": [
    {
     "name": "stdout",
     "output_type": "stream",
     "text": [
      "Total allocation: 2500000\n",
      "Expected 30d USD return on the $5.0mm portfolio: $31.2k\n",
      "Net APY for the portfolio: 15.18%\n"
     ]
    },
    {
     "data": {
      "text/html": [
       "<div>\n",
       "<style scoped>\n",
       "    .dataframe tbody tr th:only-of-type {\n",
       "        vertical-align: middle;\n",
       "    }\n",
       "\n",
       "    .dataframe tbody tr th {\n",
       "        vertical-align: top;\n",
       "    }\n",
       "\n",
       "    .dataframe thead th {\n",
       "        text-align: right;\n",
       "    }\n",
       "</style>\n",
       "<table border=\"1\" class=\"dataframe\">\n",
       "  <thead>\n",
       "    <tr style=\"text-align: right;\">\n",
       "      <th></th>\n",
       "      <th>Protocol Name</th>\n",
       "      <th>Network</th>\n",
       "      <th>Current APY</th>\n",
       "      <th>Post-Entry APY*</th>\n",
       "      <th>Asset Symbol</th>\n",
       "      <th>Vault Allocation</th>\n",
       "      <th>Current TVL (USD)</th>\n",
       "      <th>URL Link</th>\n",
       "      <th>Vault Address</th>\n",
       "    </tr>\n",
       "  </thead>\n",
       "  <tbody>\n",
       "    <tr>\n",
       "      <th>0</th>\n",
       "      <td>Aave v2 USDC</td>\n",
       "      <td>mainnet</td>\n",
       "      <td>15.32%</td>\n",
       "      <td>15.2%</td>\n",
       "      <td>USDC</td>\n",
       "      <td>$2500.0k</td>\n",
       "      <td>$274.65mm</td>\n",
       "      <td>vaults.fyi/vaults/mainnet/0xBcca60bB6193408095...</td>\n",
       "      <td>0xBcca60bB61934080951369a648Fb03DF4F96263C</td>\n",
       "    </tr>\n",
       "  </tbody>\n",
       "</table>\n",
       "</div>"
      ],
      "text/plain": [
       "  Protocol Name  Network Current APY Post-Entry APY* Asset Symbol  \\\n",
       "0  Aave v2 USDC  mainnet      15.32%           15.2%         USDC   \n",
       "\n",
       "  Vault Allocation Current TVL (USD)  \\\n",
       "0         $2500.0k         $274.65mm   \n",
       "\n",
       "                                            URL Link  \\\n",
       "0  vaults.fyi/vaults/mainnet/0xBcca60bB6193408095...   \n",
       "\n",
       "                                Vault Address  \n",
       "0  0xBcca60bB61934080951369a648Fb03DF4F96263C  "
      ]
     },
     "execution_count": 6,
     "metadata": {},
     "output_type": "execute_result"
    }
   ],
   "source": [
    "import pandas as pd\n",
    "\n",
    "n_allocations = len(allocated_vaults)\n",
    "\n",
    "# Convert allocations to a numpy array for easier handling\n",
    "optimal_allocations_array = np.array(optimal_allocations)\n",
    "\n",
    "# Calculate the anticipated APY for each allocated vault\n",
    "post_deposit_apys = []\n",
    "for i in allocated_vaults:\n",
    "    tvl_v = vault_data[i][\"tvlInUsd\"]\n",
    "    apy_v = vault_data[i][\"apy\"][YIELD_LOOKBACK] / 100\n",
    "    allocation_v = optimal_allocations_array[i]\n",
    "    adjusted_apy_v = apy_v * (tvl_v / (tvl_v + allocation_v))\n",
    "    post_deposit_apys.append(adjusted_apy_v)\n",
    "\n",
    "# Calculate the net APY for the portfolio\n",
    "net_apy = np.average([\n",
    "        post_deposit_apys[i] / 100 for i in range(n_allocations)\n",
    "    ], weights=optimal_allocations_array[allocated_vaults])\n",
    "\n",
    "# Calculate the expected USD return for each vault allocation\n",
    "total_allocation = round(sum(optimal_allocations_array[allocated_vaults]))\n",
    "print(f\"Total allocation: {total_allocation}\")\n",
    "expected_yearly_usd_return = net_apy * total_allocation\n",
    "\n",
    "# Prepare the data for the table\n",
    "table_data = {\n",
    "    \"Protocol Name\": [vault_data[i][\"name\"] for i in allocated_vaults],\n",
    "    \"Network\": [vault_data[i][\"network\"] for i in allocated_vaults],\n",
    "    \"Current APY\": [f'{vault_data[i][\"apy\"][YIELD_LOOKBACK] / 100}%' for i in allocated_vaults],\n",
    "    \"Post-Entry APY*\": [f'{round(post_deposit_apys[i], 1)}%' for i in range(n_allocations)],\n",
    "    \"Asset Symbol\": [vault_data[i][\"token\"][\"symbol\"] for i in allocated_vaults],\n",
    "    \"Vault Allocation\": [f'${round(optimal_allocations_array[i] / 1_000, 2)}k' for i in allocated_vaults],\n",
    "    \"Current TVL (USD)\": [f'${round(vault_data[i][\"tvlInUsd\"] / 1_000_000, 2)}mm' for i in allocated_vaults],\n",
    "    \"URL Link\": [f\"vaults.fyi/vaults/{vault_data[i]['network']}/{vault_data[i]['address']}\" for i in allocated_vaults],\n",
    "    \"Vault Address\": [vault_data[i][\"address\"] for i in allocated_vaults],\n",
    "}\n",
    "\n",
    "# Create a DataFrame to display the table\n",
    "vaults_table = pd.DataFrame(table_data)\n",
    "\n",
    "# Print the expected USD return and net APY for the portfolio\n",
    "print(f\"Expected {HOLDING_DAYS}d USD return on the ${TAO / 1_000_000}mm \" + \n",
    "    f\"portfolio: ${round(expected_yearly_usd_return * (HOLDING_DAYS / 365) / 1_000, 2)}k\")\n",
    "print(f\"Net APY for the portfolio: {round(net_apy * 100, 2)}%\")\n",
    "\n",
    "total_allocation_str = f\"${total_allocation / 1_000:.2f}k\" if total_allocation < 1_000_000 else f\"${total_allocation / 1_000_000:.2f}mm\"\n",
    "\n",
    "# Display the table\n",
    "vaults_table"
   ]
  },
  {
   "cell_type": "code",
   "execution_count": 7,
   "metadata": {},
   "outputs": [],
   "source": [
    "# Assuming df is your DataFrame loaded with data\n",
    "df = vaults_table\n",
    "\n",
    "# Convert 'Vault Allocation' to numerical format and normalize to $100k units\n",
    "df['Vault Allocation'] = df['Vault Allocation'].replace({'\\$': '', 'k': 'e3'}, regex=True).astype(float) / 100000\n",
    "\n",
    "# Convert 'Current APY' to numerical format\n",
    "df['Current APY'] = df['Current APY'].replace({'%': ''}, regex=True).astype(float)"
   ]
  },
  {
   "cell_type": "markdown",
   "metadata": {},
   "source": [
    "## Plot the portfolio"
   ]
  },
  {
   "cell_type": "code",
   "execution_count": 8,
   "metadata": {},
   "outputs": [
    {
     "data": {
      "image/png": "[encoded data removed]",
      "text/plain": [
       "<Figure size 1200x700 with 2 Axes>"
      ]
     },
     "metadata": {},
     "output_type": "display_data"
    }
   ],
   "source": [
    "import matplotlib.pyplot as plt\n",
    "\n",
    "# Plotting\n",
    "plt.style.use('dark_background')\n",
    "fig, ax1 = plt.subplots(figsize=(12,7))\n",
    "\n",
    "# Calculate bar positions\n",
    "n = len(df)\n",
    "index = range(n)\n",
    "bar_width = 0.35\n",
    "\n",
    "# Plot APY on primary y-axis\n",
    "apy_bars = ax1.bar(index, df['Current APY'], bar_width, label='APY')\n",
    "ax1.set_ylabel('APY (%)')\n",
    "ax1.tick_params(axis='y')\n",
    "\n",
    "# Annotate APY bars with the value above them\n",
    "for bar in apy_bars:\n",
    "    height = bar.get_height()\n",
    "    ax1.annotate(f'{height:.2f}%',\n",
    "                 xy=(bar.get_x() + bar.get_width() / 2, height),\n",
    "                 xytext=(0, 3),  # 3 points vertical offset\n",
    "                 textcoords=\"offset points\",\n",
    "                 ha='center', va='bottom', fontsize=11)\n",
    "\n",
    "# Create a second y-axis for Vault Allocation\n",
    "ax2 = ax1.twinx()\n",
    "vault_allocation_bars = ax2.bar(\n",
    "    [p + bar_width for p in index],\n",
    "    df['Vault Allocation'],\n",
    "    bar_width,\n",
    "    label='Vault Allocation',\n",
    "    color='lightgreen'\n",
    ")\n",
    "ax2.set_ylabel('Vault Allocation')\n",
    "ax2.tick_params(axis='y')\n",
    "\n",
    "# Annotate Vault Allocation bars with the value above them\n",
    "for bar in vault_allocation_bars:\n",
    "    height = bar.get_height()\n",
    "    ax2.annotate(f'${height*1e2:.2f}k',\n",
    "                 xy=(bar.get_x() + bar.get_width() / 2, height),\n",
    "                 xytext=(0, 3),  # 3 points vertical offset\n",
    "                 textcoords=\"offset points\",\n",
    "                 ha='center', va='bottom', fontsize=11)\n",
    "\n",
    "# Add some text for labels, title, and custom x-axis tick labels, etc.\n",
    "ax1.set_xlabel('Protocol')\n",
    "ax1.set_title(f'APY & Vault Allocation by Protocol: {net_apy * 100:.2f}% Net APY on {total_allocation_str} Allocation')\n",
    "ax1.set_xticks([p + bar_width / 2 for p in index])\n",
    "# ax1.set_xticklabels(df['Protocol Name'], rotation=15, ha='center')\n",
    "ax1.set_xticklabels(\n",
    "    [f\"{row['Protocol Name']} ({row['Network']})\" for _, row in df.iterrows()], \n",
    "    rotation=5,\n",
    "    ha='center'\n",
    ")\n",
    "\n",
    "# Legend\n",
    "handles, labels = ax1.get_legend_handles_labels()\n",
    "handles2, labels2 = ax2.get_legend_handles_labels()\n",
    "fig.legend(handles + handles2, labels + labels2, loc='lower left', framealpha=0.25)\n",
    "\n",
    "# Display the plot\n",
    "plt.tight_layout()\n",
    "plt.show()"
   ]
  },
  {
   "cell_type": "code",
   "execution_count": null,
   "metadata": {},
   "outputs": [],
   "source": []
  }
 ],
 "metadata": {
  "kernelspec": {
   "display_name": "Python 3",
   "language": "python",
   "name": "python3"
  },
  "language_info": {
   "codemirror_mode": {
    "name": "ipython",
    "version": 3
   },
   "file_extension": ".py",
   "mimetype": "text/x-python",
   "name": "python",
   "nbconvert_exporter": "python",
   "pygments_lexer": "ipython3",
   "version": "3.11.8"
  }
 },
 "nbformat": 4,
 "nbformat_minor": 2
}
